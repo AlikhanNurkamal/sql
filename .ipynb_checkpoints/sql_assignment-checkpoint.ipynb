{
 "cells": [
  {
   "cell_type": "code",
   "execution_count": 1,
   "id": "7287738a",
   "metadata": {},
   "outputs": [],
   "source": [
    "import pandas as pd"
   ]
  },
  {
   "cell_type": "code",
   "execution_count": 2,
   "id": "d3ec4044",
   "metadata": {},
   "outputs": [],
   "source": [
    "crime = pd.read_csv( \"ChicagoCrimeData.csv\" )\n",
    "census = pd.read_csv( \"ChicagoCensusData.csv\" )\n",
    "school = pd.read_csv( \"ChicagoPublicSchools.csv\" )"
   ]
  },
  {
   "cell_type": "code",
   "execution_count": 3,
   "id": "873cae01",
   "metadata": {},
   "outputs": [
    {
     "data": {
      "text/html": [
       "<div>\n",
       "<style scoped>\n",
       "    .dataframe tbody tr th:only-of-type {\n",
       "        vertical-align: middle;\n",
       "    }\n",
       "\n",
       "    .dataframe tbody tr th {\n",
       "        vertical-align: top;\n",
       "    }\n",
       "\n",
       "    .dataframe thead th {\n",
       "        text-align: right;\n",
       "    }\n",
       "</style>\n",
       "<table border=\"1\" class=\"dataframe\">\n",
       "  <thead>\n",
       "    <tr style=\"text-align: right;\">\n",
       "      <th></th>\n",
       "      <th>ID</th>\n",
       "      <th>CASE_NUMBER</th>\n",
       "      <th>DATE</th>\n",
       "      <th>BLOCK</th>\n",
       "      <th>IUCR</th>\n",
       "      <th>PRIMARY_TYPE</th>\n",
       "      <th>DESCRIPTION</th>\n",
       "      <th>LOCATION_DESCRIPTION</th>\n",
       "      <th>ARREST</th>\n",
       "      <th>DOMESTIC</th>\n",
       "      <th>...</th>\n",
       "      <th>DISTRICT</th>\n",
       "      <th>WARD</th>\n",
       "      <th>COMMUNITY_AREA_NUMBER</th>\n",
       "      <th>FBICODE</th>\n",
       "      <th>X_COORDINATE</th>\n",
       "      <th>Y_COORDINATE</th>\n",
       "      <th>YEAR</th>\n",
       "      <th>LATITUDE</th>\n",
       "      <th>LONGITUDE</th>\n",
       "      <th>LOCATION</th>\n",
       "    </tr>\n",
       "  </thead>\n",
       "  <tbody>\n",
       "    <tr>\n",
       "      <th>0</th>\n",
       "      <td>3512276</td>\n",
       "      <td>HK587712</td>\n",
       "      <td>2004-08-28</td>\n",
       "      <td>047XX S KEDZIE AVE</td>\n",
       "      <td>890</td>\n",
       "      <td>THEFT</td>\n",
       "      <td>FROM BUILDING</td>\n",
       "      <td>SMALL RETAIL STORE</td>\n",
       "      <td>False</td>\n",
       "      <td>False</td>\n",
       "      <td>...</td>\n",
       "      <td>9</td>\n",
       "      <td>14.0</td>\n",
       "      <td>58.0</td>\n",
       "      <td>6</td>\n",
       "      <td>1155838.0</td>\n",
       "      <td>1873050.0</td>\n",
       "      <td>2004</td>\n",
       "      <td>41.807440</td>\n",
       "      <td>-87.703956</td>\n",
       "      <td>(41.8074405, -87.703955849)</td>\n",
       "    </tr>\n",
       "    <tr>\n",
       "      <th>1</th>\n",
       "      <td>3406613</td>\n",
       "      <td>HK456306</td>\n",
       "      <td>2004-06-26</td>\n",
       "      <td>009XX N CENTRAL PARK AVE</td>\n",
       "      <td>820</td>\n",
       "      <td>THEFT</td>\n",
       "      <td>$500 AND UNDER</td>\n",
       "      <td>OTHER</td>\n",
       "      <td>False</td>\n",
       "      <td>False</td>\n",
       "      <td>...</td>\n",
       "      <td>11</td>\n",
       "      <td>27.0</td>\n",
       "      <td>23.0</td>\n",
       "      <td>6</td>\n",
       "      <td>1152206.0</td>\n",
       "      <td>1906127.0</td>\n",
       "      <td>2004</td>\n",
       "      <td>41.898280</td>\n",
       "      <td>-87.716406</td>\n",
       "      <td>(41.898279962, -87.716405505)</td>\n",
       "    </tr>\n",
       "    <tr>\n",
       "      <th>2</th>\n",
       "      <td>8002131</td>\n",
       "      <td>HT233595</td>\n",
       "      <td>2011-04-04</td>\n",
       "      <td>043XX S WABASH AVE</td>\n",
       "      <td>820</td>\n",
       "      <td>THEFT</td>\n",
       "      <td>$500 AND UNDER</td>\n",
       "      <td>NURSING HOME/RETIREMENT HOME</td>\n",
       "      <td>False</td>\n",
       "      <td>False</td>\n",
       "      <td>...</td>\n",
       "      <td>2</td>\n",
       "      <td>3.0</td>\n",
       "      <td>38.0</td>\n",
       "      <td>6</td>\n",
       "      <td>1177436.0</td>\n",
       "      <td>1876313.0</td>\n",
       "      <td>2011</td>\n",
       "      <td>41.815933</td>\n",
       "      <td>-87.624642</td>\n",
       "      <td>(41.815933131, -87.624642127)</td>\n",
       "    </tr>\n",
       "    <tr>\n",
       "      <th>3</th>\n",
       "      <td>7903289</td>\n",
       "      <td>HT133522</td>\n",
       "      <td>2010-12-30</td>\n",
       "      <td>083XX S KINGSTON AVE</td>\n",
       "      <td>840</td>\n",
       "      <td>THEFT</td>\n",
       "      <td>FINANCIAL ID THEFT: OVER $300</td>\n",
       "      <td>RESIDENCE</td>\n",
       "      <td>False</td>\n",
       "      <td>False</td>\n",
       "      <td>...</td>\n",
       "      <td>4</td>\n",
       "      <td>7.0</td>\n",
       "      <td>46.0</td>\n",
       "      <td>6</td>\n",
       "      <td>1194622.0</td>\n",
       "      <td>1850125.0</td>\n",
       "      <td>2010</td>\n",
       "      <td>41.743665</td>\n",
       "      <td>-87.562463</td>\n",
       "      <td>(41.743665322, -87.562462756)</td>\n",
       "    </tr>\n",
       "    <tr>\n",
       "      <th>4</th>\n",
       "      <td>10402076</td>\n",
       "      <td>HZ138551</td>\n",
       "      <td>2016-02-02</td>\n",
       "      <td>033XX W 66TH ST</td>\n",
       "      <td>820</td>\n",
       "      <td>THEFT</td>\n",
       "      <td>$500 AND UNDER</td>\n",
       "      <td>ALLEY</td>\n",
       "      <td>False</td>\n",
       "      <td>False</td>\n",
       "      <td>...</td>\n",
       "      <td>8</td>\n",
       "      <td>15.0</td>\n",
       "      <td>66.0</td>\n",
       "      <td>6</td>\n",
       "      <td>1155240.0</td>\n",
       "      <td>1860661.0</td>\n",
       "      <td>2016</td>\n",
       "      <td>41.773455</td>\n",
       "      <td>-87.706480</td>\n",
       "      <td>(41.773455295, -87.706480471)</td>\n",
       "    </tr>\n",
       "  </tbody>\n",
       "</table>\n",
       "<p>5 rows × 21 columns</p>\n",
       "</div>"
      ],
      "text/plain": [
       "         ID CASE_NUMBER        DATE                     BLOCK IUCR  \\\n",
       "0   3512276    HK587712  2004-08-28        047XX S KEDZIE AVE  890   \n",
       "1   3406613    HK456306  2004-06-26  009XX N CENTRAL PARK AVE  820   \n",
       "2   8002131    HT233595  2011-04-04        043XX S WABASH AVE  820   \n",
       "3   7903289    HT133522  2010-12-30      083XX S KINGSTON AVE  840   \n",
       "4  10402076    HZ138551  2016-02-02           033XX W 66TH ST  820   \n",
       "\n",
       "  PRIMARY_TYPE                    DESCRIPTION          LOCATION_DESCRIPTION  \\\n",
       "0        THEFT                  FROM BUILDING            SMALL RETAIL STORE   \n",
       "1        THEFT                 $500 AND UNDER                         OTHER   \n",
       "2        THEFT                 $500 AND UNDER  NURSING HOME/RETIREMENT HOME   \n",
       "3        THEFT  FINANCIAL ID THEFT: OVER $300                     RESIDENCE   \n",
       "4        THEFT                 $500 AND UNDER                         ALLEY   \n",
       "\n",
       "   ARREST  DOMESTIC  ...  DISTRICT  WARD  COMMUNITY_AREA_NUMBER  FBICODE  \\\n",
       "0   False     False  ...         9  14.0                   58.0        6   \n",
       "1   False     False  ...        11  27.0                   23.0        6   \n",
       "2   False     False  ...         2   3.0                   38.0        6   \n",
       "3   False     False  ...         4   7.0                   46.0        6   \n",
       "4   False     False  ...         8  15.0                   66.0        6   \n",
       "\n",
       "  X_COORDINATE  Y_COORDINATE  YEAR   LATITUDE  LONGITUDE  \\\n",
       "0    1155838.0     1873050.0  2004  41.807440 -87.703956   \n",
       "1    1152206.0     1906127.0  2004  41.898280 -87.716406   \n",
       "2    1177436.0     1876313.0  2011  41.815933 -87.624642   \n",
       "3    1194622.0     1850125.0  2010  41.743665 -87.562463   \n",
       "4    1155240.0     1860661.0  2016  41.773455 -87.706480   \n",
       "\n",
       "                        LOCATION  \n",
       "0    (41.8074405, -87.703955849)  \n",
       "1  (41.898279962, -87.716405505)  \n",
       "2  (41.815933131, -87.624642127)  \n",
       "3  (41.743665322, -87.562462756)  \n",
       "4  (41.773455295, -87.706480471)  \n",
       "\n",
       "[5 rows x 21 columns]"
      ]
     },
     "execution_count": 3,
     "metadata": {},
     "output_type": "execute_result"
    }
   ],
   "source": [
    "crime.head( )"
   ]
  },
  {
   "cell_type": "code",
   "execution_count": 6,
   "id": "16936db0",
   "metadata": {},
   "outputs": [
    {
     "data": {
      "text/plain": [
       "Index(['ID', 'CASE_NUMBER', 'DATE', 'BLOCK', 'IUCR', 'PRIMARY_TYPE',\n",
       "       'DESCRIPTION', 'LOCATION_DESCRIPTION', 'ARREST', 'DOMESTIC', 'BEAT',\n",
       "       'DISTRICT', 'WARD', 'COMMUNITY_AREA_NUMBER', 'FBICODE', 'X_COORDINATE',\n",
       "       'Y_COORDINATE', 'YEAR', 'LATITUDE', 'LONGITUDE', 'LOCATION'],\n",
       "      dtype='object')"
      ]
     },
     "execution_count": 6,
     "metadata": {},
     "output_type": "execute_result"
    }
   ],
   "source": [
    "crime.columns"
   ]
  },
  {
   "cell_type": "code",
   "execution_count": 7,
   "id": "72df5b86",
   "metadata": {},
   "outputs": [
    {
     "data": {
      "text/plain": [
       "Index(['COMMUNITY_AREA_NUMBER', 'COMMUNITY_AREA_NAME',\n",
       "       'PERCENT_OF_HOUSING_CROWDED', 'PERCENT_HOUSEHOLDS_BELOW_POVERTY',\n",
       "       'PERCENT_AGED_16__UNEMPLOYED',\n",
       "       'PERCENT_AGED_25__WITHOUT_HIGH_SCHOOL_DIPLOMA',\n",
       "       'PERCENT_AGED_UNDER_18_OR_OVER_64', 'PER_CAPITA_INCOME',\n",
       "       'HARDSHIP_INDEX'],\n",
       "      dtype='object')"
      ]
     },
     "execution_count": 7,
     "metadata": {},
     "output_type": "execute_result"
    }
   ],
   "source": [
    "census.columns"
   ]
  },
  {
   "cell_type": "code",
   "execution_count": 8,
   "id": "1b5250c4",
   "metadata": {
    "scrolled": true
   },
   "outputs": [
    {
     "data": {
      "text/plain": [
       "Index(['School_ID', 'NAME_OF_SCHOOL', 'Elementary, Middle, or High School',\n",
       "       'Street_Address', 'City', 'State', 'ZIP_Code', 'Phone_Number', 'Link',\n",
       "       'Network_Manager', 'Collaborative_Name',\n",
       "       'Adequate_Yearly_Progress_Made_', 'Track_Schedule',\n",
       "       'CPS_Performance_Policy_Status', 'CPS_Performance_Policy_Level',\n",
       "       'HEALTHY_SCHOOL_CERTIFIED', 'Safety_Icon', 'SAFETY_SCORE',\n",
       "       'Family_Involvement_Icon', 'Family_Involvement_Score',\n",
       "       'Environment_Icon', 'Environment_Score', 'Instruction_Icon',\n",
       "       'Instruction_Score', 'Leaders_Icon', 'Leaders_Score', 'Teachers_Icon',\n",
       "       'Teachers_Score', 'Parent_Engagement_Icon', 'Parent_Engagement_Score',\n",
       "       'Parent_Environment_Icon', 'Parent_Environment_Score',\n",
       "       'AVERAGE_STUDENT_ATTENDANCE', 'Rate_of_Misconducts__per_100_students_',\n",
       "       'Average_Teacher_Attendance',\n",
       "       'Individualized_Education_Program_Compliance_Rate', 'Pk_2_Literacy__',\n",
       "       'Pk_2_Math__', 'Gr3_5_Grade_Level_Math__', 'Gr3_5_Grade_Level_Read__',\n",
       "       'Gr3_5_Keep_Pace_Read__', 'Gr3_5_Keep_Pace_Math__',\n",
       "       'Gr6_8_Grade_Level_Math__', 'Gr6_8_Grade_Level_Read__',\n",
       "       'Gr6_8_Keep_Pace_Math_', 'Gr6_8_Keep_Pace_Read__',\n",
       "       'Gr_8_Explore_Math__', 'Gr_8_Explore_Read__', 'ISAT_Exceeding_Math__',\n",
       "       'ISAT_Exceeding_Reading__', 'ISAT_Value_Add_Math',\n",
       "       'ISAT_Value_Add_Read', 'ISAT_Value_Add_Color_Math',\n",
       "       'ISAT_Value_Add_Color_Read', 'Students_Taking__Algebra__',\n",
       "       'Students_Passing__Algebra__', '9th Grade EXPLORE (2009)',\n",
       "       '9th Grade EXPLORE (2010)', '10th Grade PLAN (2009)',\n",
       "       '10th Grade PLAN (2010)', 'Net_Change_EXPLORE_and_PLAN',\n",
       "       '11th Grade Average ACT (2011)', 'Net_Change_PLAN_and_ACT',\n",
       "       'College_Eligibility__', 'Graduation_Rate__',\n",
       "       'College_Enrollment_Rate__', 'COLLEGE_ENROLLMENT',\n",
       "       'General_Services_Route', 'Freshman_on_Track_Rate__', 'X_COORDINATE',\n",
       "       'Y_COORDINATE', 'Latitude', 'Longitude', 'COMMUNITY_AREA_NUMBER',\n",
       "       'COMMUNITY_AREA_NAME', 'Ward', 'Police_District', 'Location'],\n",
       "      dtype='object')"
      ]
     },
     "execution_count": 8,
     "metadata": {},
     "output_type": "execute_result"
    }
   ],
   "source": [
    "school.columns"
   ]
  },
  {
   "cell_type": "code",
   "execution_count": null,
   "id": "45b8ce3c",
   "metadata": {},
   "outputs": [],
   "source": [
    "# I could not connect neither to IBM DB2 nor to SQLite, so I write code using Pandas."
   ]
  },
  {
   "cell_type": "code",
   "execution_count": 5,
   "id": "93d7a91b",
   "metadata": {},
   "outputs": [
    {
     "data": {
      "text/plain": [
       "533"
      ]
     },
     "execution_count": 5,
     "metadata": {},
     "output_type": "execute_result"
    }
   ],
   "source": [
    "# I would use\n",
    "# select COUNT( * ) from CRIME;\n",
    "\n",
    "crime.shape[0]"
   ]
  },
  {
   "cell_type": "code",
   "execution_count": 9,
   "id": "b67dfe65",
   "metadata": {},
   "outputs": [
    {
     "data": {
      "text/html": [
       "<div>\n",
       "<style scoped>\n",
       "    .dataframe tbody tr th:only-of-type {\n",
       "        vertical-align: middle;\n",
       "    }\n",
       "\n",
       "    .dataframe tbody tr th {\n",
       "        vertical-align: top;\n",
       "    }\n",
       "\n",
       "    .dataframe thead th {\n",
       "        text-align: right;\n",
       "    }\n",
       "</style>\n",
       "<table border=\"1\" class=\"dataframe\">\n",
       "  <thead>\n",
       "    <tr style=\"text-align: right;\">\n",
       "      <th></th>\n",
       "      <th>COMMUNITY_AREA_NAME</th>\n",
       "      <th>PER_CAPITA_INCOME</th>\n",
       "    </tr>\n",
       "  </thead>\n",
       "  <tbody>\n",
       "    <tr>\n",
       "      <th>25</th>\n",
       "      <td>West Garfield Park</td>\n",
       "      <td>10934</td>\n",
       "    </tr>\n",
       "    <tr>\n",
       "      <th>29</th>\n",
       "      <td>South Lawndale</td>\n",
       "      <td>10402</td>\n",
       "    </tr>\n",
       "    <tr>\n",
       "      <th>36</th>\n",
       "      <td>Fuller Park</td>\n",
       "      <td>10432</td>\n",
       "    </tr>\n",
       "    <tr>\n",
       "      <th>53</th>\n",
       "      <td>Riverdale</td>\n",
       "      <td>8201</td>\n",
       "    </tr>\n",
       "  </tbody>\n",
       "</table>\n",
       "</div>"
      ],
      "text/plain": [
       "   COMMUNITY_AREA_NAME  PER_CAPITA_INCOME\n",
       "25  West Garfield Park              10934\n",
       "29      South Lawndale              10402\n",
       "36         Fuller Park              10432\n",
       "53           Riverdale               8201"
      ]
     },
     "execution_count": 9,
     "metadata": {},
     "output_type": "execute_result"
    }
   ],
   "source": [
    "# I would write\n",
    "# select \"COMMUNITY_AREA_NAME\", \"PER_CAPITA_INCOME\" from CENSUS\n",
    "# where \"PER_CAPITA_INCOME\" < 11000;\n",
    "\n",
    "census[[\"COMMUNITY_AREA_NAME\", \"PER_CAPITA_INCOME\"]][census[\"PER_CAPITA_INCOME\"] < 11000]"
   ]
  },
  {
   "cell_type": "code",
   "execution_count": null,
   "id": "1601faa6",
   "metadata": {},
   "outputs": [],
   "source": []
  },
  {
   "cell_type": "code",
   "execution_count": 90,
   "id": "979be3f2",
   "metadata": {},
   "outputs": [
    {
     "data": {
      "text/html": [
       "<div>\n",
       "<style scoped>\n",
       "    .dataframe tbody tr th:only-of-type {\n",
       "        vertical-align: middle;\n",
       "    }\n",
       "\n",
       "    .dataframe tbody tr th {\n",
       "        vertical-align: top;\n",
       "    }\n",
       "\n",
       "    .dataframe thead th {\n",
       "        text-align: right;\n",
       "    }\n",
       "</style>\n",
       "<table border=\"1\" class=\"dataframe\">\n",
       "  <thead>\n",
       "    <tr style=\"text-align: right;\">\n",
       "      <th></th>\n",
       "      <th>CASE_NUMBER</th>\n",
       "      <th>DESCRIPTION</th>\n",
       "    </tr>\n",
       "  </thead>\n",
       "  <tbody>\n",
       "    <tr>\n",
       "      <th>500</th>\n",
       "      <td>HN567387</td>\n",
       "      <td>AGG SEX ASSLT OF CHILD FAM MBR</td>\n",
       "    </tr>\n",
       "    <tr>\n",
       "      <th>501</th>\n",
       "      <td>HR391350</td>\n",
       "      <td>SEX ASSLT OF CHILD BY FAM MBR</td>\n",
       "    </tr>\n",
       "    <tr>\n",
       "      <th>514</th>\n",
       "      <td>HL266884</td>\n",
       "      <td>SELL/GIVE/DEL LIQUOR TO MINOR</td>\n",
       "    </tr>\n",
       "    <tr>\n",
       "      <th>515</th>\n",
       "      <td>HK238408</td>\n",
       "      <td>ILLEGAL CONSUMPTION BY MINOR</td>\n",
       "    </tr>\n",
       "    <tr>\n",
       "      <th>520</th>\n",
       "      <td>HN144152</td>\n",
       "      <td>CHILD ABDUCTION/STRANGER</td>\n",
       "    </tr>\n",
       "  </tbody>\n",
       "</table>\n",
       "</div>"
      ],
      "text/plain": [
       "    CASE_NUMBER                     DESCRIPTION\n",
       "500    HN567387  AGG SEX ASSLT OF CHILD FAM MBR\n",
       "501    HR391350   SEX ASSLT OF CHILD BY FAM MBR\n",
       "514    HL266884   SELL/GIVE/DEL LIQUOR TO MINOR\n",
       "515    HK238408    ILLEGAL CONSUMPTION BY MINOR\n",
       "520    HN144152        CHILD ABDUCTION/STRANGER"
      ]
     },
     "execution_count": 90,
     "metadata": {},
     "output_type": "execute_result"
    }
   ],
   "source": [
    "# my SQL command:\n",
    "# select \"CASE_NUMBER\", \"DESCRIPTION\" from CRIME\n",
    "# where \"DESCRIPTION\" LIKE '%CHILD%'\n",
    "# or \"DESCRIPTION\" LIKE '%MINOR%';\n",
    "\n",
    "crime[( crime[\"DESCRIPTION\"].str.contains( \"MINOR\" ) ) | ( crime[\"DESCRIPTION\"].str.contains( \"CHILD\" ) )][[\"CASE_NUMBER\", \"DESCRIPTION\"]]"
   ]
  },
  {
   "cell_type": "code",
   "execution_count": null,
   "id": "36bd90c1",
   "metadata": {},
   "outputs": [],
   "source": []
  },
  {
   "cell_type": "code",
   "execution_count": 94,
   "id": "650926a3",
   "metadata": {},
   "outputs": [
    {
     "data": {
      "text/html": [
       "<div>\n",
       "<style scoped>\n",
       "    .dataframe tbody tr th:only-of-type {\n",
       "        vertical-align: middle;\n",
       "    }\n",
       "\n",
       "    .dataframe tbody tr th {\n",
       "        vertical-align: top;\n",
       "    }\n",
       "\n",
       "    .dataframe thead th {\n",
       "        text-align: right;\n",
       "    }\n",
       "</style>\n",
       "<table border=\"1\" class=\"dataframe\">\n",
       "  <thead>\n",
       "    <tr style=\"text-align: right;\">\n",
       "      <th></th>\n",
       "      <th>ID</th>\n",
       "      <th>CASE_NUMBER</th>\n",
       "      <th>DATE</th>\n",
       "      <th>BLOCK</th>\n",
       "      <th>IUCR</th>\n",
       "      <th>PRIMARY_TYPE</th>\n",
       "      <th>DESCRIPTION</th>\n",
       "      <th>LOCATION_DESCRIPTION</th>\n",
       "      <th>ARREST</th>\n",
       "      <th>DOMESTIC</th>\n",
       "      <th>...</th>\n",
       "      <th>DISTRICT</th>\n",
       "      <th>WARD</th>\n",
       "      <th>COMMUNITY_AREA_NUMBER</th>\n",
       "      <th>FBICODE</th>\n",
       "      <th>X_COORDINATE</th>\n",
       "      <th>Y_COORDINATE</th>\n",
       "      <th>YEAR</th>\n",
       "      <th>LATITUDE</th>\n",
       "      <th>LONGITUDE</th>\n",
       "      <th>LOCATION</th>\n",
       "    </tr>\n",
       "  </thead>\n",
       "  <tbody>\n",
       "    <tr>\n",
       "      <th>520</th>\n",
       "      <td>5276766</td>\n",
       "      <td>HN144152</td>\n",
       "      <td>2007-01-26</td>\n",
       "      <td>050XX W VAN BUREN ST</td>\n",
       "      <td>1792</td>\n",
       "      <td>KIDNAPPING</td>\n",
       "      <td>CHILD ABDUCTION/STRANGER</td>\n",
       "      <td>STREET</td>\n",
       "      <td>False</td>\n",
       "      <td>False</td>\n",
       "      <td>...</td>\n",
       "      <td>15</td>\n",
       "      <td>29.0</td>\n",
       "      <td>25.0</td>\n",
       "      <td>20</td>\n",
       "      <td>1143050.0</td>\n",
       "      <td>1897546.0</td>\n",
       "      <td>2007</td>\n",
       "      <td>41.874908</td>\n",
       "      <td>-87.750249</td>\n",
       "      <td>(41.874908413, -87.750249307)</td>\n",
       "    </tr>\n",
       "  </tbody>\n",
       "</table>\n",
       "<p>1 rows × 21 columns</p>\n",
       "</div>"
      ],
      "text/plain": [
       "          ID CASE_NUMBER        DATE                 BLOCK  IUCR PRIMARY_TYPE  \\\n",
       "520  5276766    HN144152  2007-01-26  050XX W VAN BUREN ST  1792   KIDNAPPING   \n",
       "\n",
       "                  DESCRIPTION LOCATION_DESCRIPTION  ARREST  DOMESTIC  ...  \\\n",
       "520  CHILD ABDUCTION/STRANGER               STREET   False     False  ...   \n",
       "\n",
       "     DISTRICT  WARD  COMMUNITY_AREA_NUMBER  FBICODE X_COORDINATE  \\\n",
       "520        15  29.0                   25.0       20    1143050.0   \n",
       "\n",
       "     Y_COORDINATE  YEAR   LATITUDE  LONGITUDE                       LOCATION  \n",
       "520     1897546.0  2007  41.874908 -87.750249  (41.874908413, -87.750249307)  \n",
       "\n",
       "[1 rows x 21 columns]"
      ]
     },
     "execution_count": 94,
     "metadata": {},
     "output_type": "execute_result"
    }
   ],
   "source": [
    "# my SQL command:\n",
    "# select * from CRIME\n",
    "# where \"PRIMARY_TYPE\" LIKE '%KIDNAP%';\n",
    "\n",
    "crime[crime[\"PRIMARY_TYPE\"].str.contains( \"KIDNAP\" )]"
   ]
  },
  {
   "cell_type": "code",
   "execution_count": null,
   "id": "255b2a29",
   "metadata": {},
   "outputs": [],
   "source": []
  },
  {
   "cell_type": "code",
   "execution_count": 97,
   "id": "508b5201",
   "metadata": {},
   "outputs": [
    {
     "data": {
      "text/plain": [
       "array(['BATTERY', 'CRIMINAL DAMAGE', 'NARCOTICS', 'ASSAULT',\n",
       "       'CRIMINAL TRESPASS', 'PUBLIC PEACE VIOLATION'], dtype=object)"
      ]
     },
     "execution_count": 97,
     "metadata": {},
     "output_type": "execute_result"
    }
   ],
   "source": [
    "# my SQL query:\n",
    "# select DISTINCT( \"PRIMARY_TYPE\" ) from CRIME\n",
    "# where \"LOCATION_DESCRIPTION\" LIKE '%SCHOOL%';\n",
    "\n",
    "crime[crime[\"LOCATION_DESCRIPTION\"].str.contains( \"SCHOOL\" )][\"PRIMARY_TYPE\"].unique( )"
   ]
  },
  {
   "cell_type": "code",
   "execution_count": 98,
   "id": "c6fbb490",
   "metadata": {},
   "outputs": [
    {
     "data": {
      "text/plain": [
       "Elementary, Middle, or High School\n",
       "ES    49.520384\n",
       "HS    49.623529\n",
       "MS    48.000000\n",
       "Name: SAFETY_SCORE, dtype: float64"
      ]
     },
     "execution_count": 98,
     "metadata": {},
     "output_type": "execute_result"
    }
   ],
   "source": [
    "# my SQL query:\n",
    "# select DISTINCT( \"Elementary, Middle, or High School\" ), AVG( \"SAFETY_SCORE\" ) from SCHOOLS\n",
    "# GROUP BY \"Elementary, Middle, or High School\";\n",
    "\n",
    "school.groupby( \"Elementary, Middle, or High School\" )[\"SAFETY_SCORE\"].mean( )"
   ]
  },
  {
   "cell_type": "code",
   "execution_count": 104,
   "id": "1e081d8b",
   "metadata": {},
   "outputs": [
    {
     "data": {
      "text/html": [
       "<div>\n",
       "<style scoped>\n",
       "    .dataframe tbody tr th:only-of-type {\n",
       "        vertical-align: middle;\n",
       "    }\n",
       "\n",
       "    .dataframe tbody tr th {\n",
       "        vertical-align: top;\n",
       "    }\n",
       "\n",
       "    .dataframe thead th {\n",
       "        text-align: right;\n",
       "    }\n",
       "</style>\n",
       "<table border=\"1\" class=\"dataframe\">\n",
       "  <thead>\n",
       "    <tr style=\"text-align: right;\">\n",
       "      <th></th>\n",
       "      <th>COMMUNITY_AREA_NAME</th>\n",
       "      <th>PERCENT_HOUSEHOLDS_BELOW_POVERTY</th>\n",
       "    </tr>\n",
       "  </thead>\n",
       "  <tbody>\n",
       "    <tr>\n",
       "      <th>53</th>\n",
       "      <td>Riverdale</td>\n",
       "      <td>56.5</td>\n",
       "    </tr>\n",
       "    <tr>\n",
       "      <th>36</th>\n",
       "      <td>Fuller Park</td>\n",
       "      <td>51.2</td>\n",
       "    </tr>\n",
       "    <tr>\n",
       "      <th>67</th>\n",
       "      <td>Englewood</td>\n",
       "      <td>46.6</td>\n",
       "    </tr>\n",
       "    <tr>\n",
       "      <th>28</th>\n",
       "      <td>North Lawndale</td>\n",
       "      <td>43.1</td>\n",
       "    </tr>\n",
       "    <tr>\n",
       "      <th>26</th>\n",
       "      <td>East Garfield Park</td>\n",
       "      <td>42.4</td>\n",
       "    </tr>\n",
       "  </tbody>\n",
       "</table>\n",
       "</div>"
      ],
      "text/plain": [
       "   COMMUNITY_AREA_NAME  PERCENT_HOUSEHOLDS_BELOW_POVERTY\n",
       "53           Riverdale                              56.5\n",
       "36         Fuller Park                              51.2\n",
       "67           Englewood                              46.6\n",
       "28      North Lawndale                              43.1\n",
       "26  East Garfield Park                              42.4"
      ]
     },
     "execution_count": 104,
     "metadata": {},
     "output_type": "execute_result"
    }
   ],
   "source": [
    "# my SQL command:\n",
    "# select \"COMMUNITY_AREA_NAME\", \"PERCENT_HOUSEHOLDS_BELOW_POVERTY\" from CENSUS\n",
    "# ORDER BY \"PERCENT_HOUSEHOLDS_BELOW_POVERTY\" DESC\n",
    "# LIMIT 5;\n",
    "\n",
    "census[[\"COMMUNITY_AREA_NAME\",\n",
    "        \"PERCENT_HOUSEHOLDS_BELOW_POVERTY\"]].sort_values( by = \"PERCENT_HOUSEHOLDS_BELOW_POVERTY\",\n",
    "                                                                                 ascending = False )[:5]"
   ]
  },
  {
   "cell_type": "code",
   "execution_count": 130,
   "id": "2f045467",
   "metadata": {},
   "outputs": [
    {
     "data": {
      "text/plain": [
       "25.0"
      ]
     },
     "execution_count": 130,
     "metadata": {},
     "output_type": "execute_result"
    }
   ],
   "source": [
    "# my SQL command:\n",
    "# select \"COMMUNITY_AREA_NUMBER\" from CRIME\n",
    "# GROUP BY \"COMMUNITY_AREA_NUMBER\"\n",
    "# ORDER BY COUNT( * ) DESC LIMIT 1;\n",
    "\n",
    "crime.groupby( \"COMMUNITY_AREA_NUMBER\" )[[\"ID\"]].count( ).sort_values( by = \"ID\", ascending = False ).index[0]"
   ]
  },
  {
   "cell_type": "code",
   "execution_count": 127,
   "id": "1824298f",
   "metadata": {},
   "outputs": [
    {
     "data": {
      "text/html": [
       "<div>\n",
       "<style scoped>\n",
       "    .dataframe tbody tr th:only-of-type {\n",
       "        vertical-align: middle;\n",
       "    }\n",
       "\n",
       "    .dataframe tbody tr th {\n",
       "        vertical-align: top;\n",
       "    }\n",
       "\n",
       "    .dataframe thead th {\n",
       "        text-align: right;\n",
       "    }\n",
       "</style>\n",
       "<table border=\"1\" class=\"dataframe\">\n",
       "  <thead>\n",
       "    <tr style=\"text-align: right;\">\n",
       "      <th></th>\n",
       "      <th>COMMUNITY_AREA_NAME</th>\n",
       "      <th>HARDSHIP_INDEX</th>\n",
       "    </tr>\n",
       "  </thead>\n",
       "  <tbody>\n",
       "    <tr>\n",
       "      <th>53</th>\n",
       "      <td>Riverdale</td>\n",
       "      <td>98.0</td>\n",
       "    </tr>\n",
       "  </tbody>\n",
       "</table>\n",
       "</div>"
      ],
      "text/plain": [
       "   COMMUNITY_AREA_NAME  HARDSHIP_INDEX\n",
       "53           Riverdale            98.0"
      ]
     },
     "execution_count": 127,
     "metadata": {},
     "output_type": "execute_result"
    }
   ],
   "source": [
    "# my SQL query:\n",
    "# select \"COMMUNITY_AREA_NAME\", \"HARDSHIP_INDEX\" from CENSUS\n",
    "# where \"HARDSHIP_INDEX\" = ( select MAX( \"HARDSHIP_INDEX\" ) from CENSUS );\n",
    "\n",
    "census[census[\"HARDSHIP_INDEX\"] == census[\"HARDSHIP_INDEX\"].max( )][[\"COMMUNITY_AREA_NAME\", \"HARDSHIP_INDEX\"]]"
   ]
  },
  {
   "cell_type": "code",
   "execution_count": 129,
   "id": "026b1879",
   "metadata": {},
   "outputs": [
    {
     "data": {
      "text/plain": [
       "24    Austin\n",
       "Name: COMMUNITY_AREA_NAME, dtype: object"
      ]
     },
     "execution_count": 129,
     "metadata": {},
     "output_type": "execute_result"
    }
   ],
   "source": [
    "# my SQL query:\n",
    "# select \"COMMUNITY_AREA_NAME\" from CENSUS\n",
    "# where \"COMMUNITY_AREA_NUMBER\" IN ( select \"COMMUNITY_AREA_NUMBER\" from CRIME\n",
    "#                                    GROUP BY \"COMMUNITY_AREA_NUMBER\"\n",
    "#                                    ORDER BY COUNT( * ) DESC LIMIT 1 );\n",
    "\n",
    "census[census[\"COMMUNITY_AREA_NUMBER\"] == crime.groupby( \"COMMUNITY_AREA_NUMBER\" )[[\"ID\"]].count( ).sort_values( by = \"ID\", ascending = False ).index[0]][[\"COMMUNITY_AREA_NAME\"]]"
   ]
  },
  {
   "cell_type": "code",
   "execution_count": null,
   "id": "c8e069d3",
   "metadata": {},
   "outputs": [],
   "source": []
  }
 ],
 "metadata": {
  "kernelspec": {
   "display_name": "Python 3 (ipykernel)",
   "language": "python",
   "name": "python3"
  },
  "language_info": {
   "codemirror_mode": {
    "name": "ipython",
    "version": 3
   },
   "file_extension": ".py",
   "mimetype": "text/x-python",
   "name": "python",
   "nbconvert_exporter": "python",
   "pygments_lexer": "ipython3",
   "version": "3.9.7"
  }
 },
 "nbformat": 4,
 "nbformat_minor": 5
}
